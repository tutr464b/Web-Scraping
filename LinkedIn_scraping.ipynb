{
 "cells": [
  {
   "cell_type": "code",
   "execution_count": 1,
   "metadata": {},
   "outputs": [],
   "source": [
    "from selenium import webdriver\n",
    "from selenium.webdriver.common.keys import Keys"
   ]
  },
  {
   "cell_type": "code",
   "execution_count": 2,
   "metadata": {},
   "outputs": [],
   "source": [
    "from time import sleep"
   ]
  },
  {
   "cell_type": "markdown",
   "metadata": {},
   "source": [
    "Go to LinkedIn and Login "
   ]
  },
  {
   "cell_type": "code",
   "execution_count": 3,
   "metadata": {},
   "outputs": [],
   "source": [
    "#go to LinkedIn"
   ]
  },
  {
   "cell_type": "code",
   "execution_count": 4,
   "metadata": {},
   "outputs": [],
   "source": [
    "driver=webdriver.Chrome('./chromedriver_win32/chromedriver.exe')"
   ]
  },
  {
   "cell_type": "code",
   "execution_count": 5,
   "metadata": {},
   "outputs": [],
   "source": [
    "url='https://www.linkedin.com/login'\n",
    "driver.get(url)"
   ]
  },
  {
   "cell_type": "code",
   "execution_count": 6,
   "metadata": {},
   "outputs": [],
   "source": [
    "#login"
   ]
  },
  {
   "cell_type": "code",
   "execution_count": 7,
   "metadata": {},
   "outputs": [],
   "source": [
    "login_information=open('login.txt')\n",
    "line=login_information.readlines()\n",
    "username=line[0]\n",
    "password=line[1]"
   ]
  },
  {
   "cell_type": "code",
   "execution_count": 8,
   "metadata": {},
   "outputs": [],
   "source": [
    "#insert username "
   ]
  },
  {
   "cell_type": "code",
   "execution_count": 9,
   "metadata": {},
   "outputs": [],
   "source": [
    "user_field=driver.find_element_by_id('username')\n",
    "user_field.send_keys(username)\n",
    "sleep(3)"
   ]
  },
  {
   "cell_type": "code",
   "execution_count": 10,
   "metadata": {},
   "outputs": [],
   "source": [
    "#inser password"
   ]
  },
  {
   "cell_type": "code",
   "execution_count": 11,
   "metadata": {},
   "outputs": [],
   "source": [
    "password_field=driver.find_element_by_id('password')\n",
    "password_field.send_keys(password)\n",
    "sleep(2)"
   ]
  },
  {
   "cell_type": "code",
   "execution_count": 12,
   "metadata": {},
   "outputs": [],
   "source": [
    "#click sign in"
   ]
  },
  {
   "cell_type": "code",
   "execution_count": 13,
   "metadata": {},
   "outputs": [],
   "source": [
    "login_field=driver.find_element_by_xpath('//*[@id=\"organic-div\"]/form/div[3]/button')\n",
    "login_field.click()\n",
    "sleep(2)"
   ]
  },
  {
   "cell_type": "markdown",
   "metadata": {},
   "source": [
    "search for Profile"
   ]
  },
  {
   "cell_type": "code",
   "execution_count": 14,
   "metadata": {},
   "outputs": [],
   "source": [
    "#click search symbol"
   ]
  },
  {
   "cell_type": "code",
   "execution_count": 17,
   "metadata": {},
   "outputs": [],
   "source": [
    "search_field=driver.find_element_by_xpath('//*[@id=\"global-nav-typeahead\"]/input')\n"
   ]
  },
  {
   "cell_type": "code",
   "execution_count": 18,
   "metadata": {},
   "outputs": [],
   "source": [
    "search_field.send_keys('Software Engineer people')"
   ]
  },
  {
   "cell_type": "code",
   "execution_count": 19,
   "metadata": {},
   "outputs": [],
   "source": [
    "search_field.send_keys(Keys.RETURN)"
   ]
  },
  {
   "cell_type": "code",
   "execution_count": 20,
   "metadata": {},
   "outputs": [],
   "source": [
    "people_field=driver.find_element_by_xpath('//*[@id=\"search-reusables__filters-bar\"]/ul/li[1]')\n",
    "people_field.click()"
   ]
  },
  {
   "cell_type": "markdown",
   "metadata": {},
   "source": [
    "Scrape the URLs of the profiles"
   ]
  },
  {
   "cell_type": "code",
   "execution_count": 21,
   "metadata": {},
   "outputs": [],
   "source": [
    "from bs4 import BeautifulSoup"
   ]
  },
  {
   "cell_type": "code",
   "execution_count": 22,
   "metadata": {},
   "outputs": [],
   "source": [
    "def getURL(): \n",
    "    page_source=BeautifulSoup(driver.page_source)\n",
    "    profiles=page_source.find_all('a',class_='app-aware-link')\n",
    "    all_profile_URL=set()\n",
    "    for profile in profiles:\n",
    "        profile_ID=profile.get('href')\n",
    "        \n",
    "        all_profile_URL.add(profile_ID)\n",
    "    return all_profile_URL"
   ]
  },
  {
   "cell_type": "code",
   "execution_count": 25,
   "metadata": {},
   "outputs": [],
   "source": [
    "URLs_all_page=set()\n",
    "for i in range(5):\n",
    "    URLs_one_page=getURL()\n",
    "    sleep(2)\n",
    "    driver.execute_script('window.scrollTo(0,document.body.scrollHeight)')\n",
    "    sleep(2)\n",
    "    next_button=driver.find_element_by_class_name('artdeco-pagination__button--next')\n",
    "    next_button.click()\n",
    "    URLs_all_page.update(URLs_one_page)\n",
    "\n"
   ]
  },
  {
   "cell_type": "markdown",
   "metadata": {},
   "source": [
    "write to a csv file"
   ]
  },
  {
   "cell_type": "code",
   "execution_count": 27,
   "metadata": {},
   "outputs": [],
   "source": [
    "import csv"
   ]
  },
  {
   "cell_type": "code",
   "execution_count": 56,
   "metadata": {},
   "outputs": [
    {
     "name": "stdout",
     "output_type": "stream",
     "text": [
      "{'https://www.linkedin.com/in/neptuneboege?miniProfileUrn=urn%3Ali%3Afs_miniProfile%3AACoAABO_7igB3QgTNfE9BY2m8tJ8mgGngc7VKug', 'https://www.linkedin.com/in/andreibechet?miniProfileUrn=urn%3Ali%3Afs_miniProfile%3AACoAAAN-WNoBpVyrODWH3AuT57HA30aVM4-Xy08', 'https://www.linkedin.com/in/igna-vermeulen?miniProfileUrn=urn%3Ali%3Afs_miniProfile%3AACoAABDnS-MBICo1846mQxRgrNVMd-LOCJJSjpw', 'https://www.linkedin.com/in/paul-gualotuna?miniProfileUrn=urn%3Ali%3Afs_miniProfile%3AACoAAA8S9vkBJ8HzvjSlxTdz9bkK2fHZEz-bBK4', 'https://www.linkedin.com/in/zehra-hay%C4%B1rc%C4%B1-39b4071b4?miniProfileUrn=urn%3Ali%3Afs_miniProfile%3AACoAADHk4WcBgD8Ghacvj6U1XNBqkCC9CCJtStQ', 'https://www.linkedin.com/in/sarra-hattab?miniProfileUrn=urn%3Ali%3Afs_miniProfile%3AACoAABNLK7UBMzmqbuUmU3ezn8ns3u-LESgSJNs', 'https://www.linkedin.com/in/corylevinson?miniProfileUrn=urn%3Ali%3Afs_miniProfile%3AACoAAAmoE_ABVHI3X1e6Hn6ayQG63pU7GNAC510', 'https://www.linkedin.com/in/fongnancy?miniProfileUrn=urn%3Ali%3Afs_miniProfile%3AACoAABKGDuIB0otYJXlpAhtA_xPgHb_yUC38irE', 'https://www.linkedin.com/in/olga-lyudchik?miniProfileUrn=urn%3Ali%3Afs_miniProfile%3AACoAACZLe_QBKQgiHrgQwxEIifdecq7w6AvwhpI', 'https://www.linkedin.com/in/asadmuneer?miniProfileUrn=urn%3Ali%3Afs_miniProfile%3AACoAABWdpZgB2z1oiEzCPHejL3TDxWwAIqL8J54', 'https://www.linkedin.com/in/muhammadharisshafiq?miniProfileUrn=urn%3Ali%3Afs_miniProfile%3AACoAAA1mHSABaCrtPOB9kbaGCQGQaya4BIyAmqo', 'https://www.linkedin.com/in/alexiscarlough?miniProfileUrn=urn%3Ali%3Afs_miniProfile%3AACoAAAhpr6EBnX4c549xMa5fkk_o2vH9EKz1erY', 'https://www.linkedin.com/in/jo%C3%A3o-lu%C3%ADs-tavares?miniProfileUrn=urn%3Ali%3Afs_miniProfile%3AACoAAAXxxioBeY92-izzP7rssGvCznMT11GkkXQ', 'https://www.linkedin.com/in/norbert-manthey-5378b983?miniProfileUrn=urn%3Ali%3Afs_miniProfile%3AACoAABHAyrsBSJW-05ExMFdp29SVgDn2yNKf988', 'https://www.linkedin.com/in/gulnar-aghayeva-30b280b8?miniProfileUrn=urn%3Ali%3Afs_miniProfile%3AACoAABj04bsBZQSxttZNz6coCA-SegGYD_l6iaQ', 'https://www.linkedin.com/in/igor-vizma?miniProfileUrn=urn%3Ali%3Afs_miniProfile%3AACoAAAiu19EBY6xAeFhZIPV0PznhrchertauKN4', 'https://www.linkedin.com/in/davidcifuentesgarcia?miniProfileUrn=urn%3Ali%3Afs_miniProfile%3AACoAAAg-wBMB_csE6qW8sK8OC-74BsGmyFIEZ8E', 'https://www.linkedin.com/in/ACoAAB8zGzgBCs7tk97g0kh_mpAfaczB4jwFYeo?miniProfileUrn=urn%3Ali%3Afs_miniProfile%3AACoAAB8zGzgBCs7tk97g0kh_mpAfaczB4jwFYeo', 'https://www.linkedin.com/in/marcellokabora?miniProfileUrn=urn%3Ali%3Afs_miniProfile%3AACoAABwrQNoBm3_nggSbFf1grw2e27LPS6eDl3k', 'https://www.linkedin.com/in/jeremiah-vodianitski-586591206?miniProfileUrn=urn%3Ali%3Afs_miniProfile%3AACoAADRpPvYBRNJ-7UUZbIeRmb5vAOacxRXU6M0', 'https://www.linkedin.com/in/jessica-ambrosy?miniProfileUrn=urn%3Ali%3Afs_miniProfile%3AACoAABm6u78BEl76am-tK5dpaoXdxaXyWJkXnEs', 'https://www.linkedin.com/in/dilara-akdogan-a5500090?miniProfileUrn=urn%3Ali%3Afs_miniProfile%3AACoAABM4xeEBXiPgBZcAOZ7qsY74M8iKDGl1-eo', 'https://www.linkedin.com/in/aramisfernandes?miniProfileUrn=urn%3Ali%3Afs_miniProfile%3AACoAAAG1jvABrXM6Jk4FglaKa4R7SolMub34ehk', 'https://www.linkedin.com/in/fatadel?miniProfileUrn=urn%3Ali%3Afs_miniProfile%3AACoAACRsQyIBLxYf01IneeDUKx35hCGISVp-nCo', 'https://www.linkedin.com/in/maksym-petyak-2763ba157?miniProfileUrn=urn%3Ali%3Afs_miniProfile%3AACoAACWc0_oB5n704rAw5mHZt6W0PNbzZ9gpj1Q', 'https://www.linkedin.com/in/marcelscruz?miniProfileUrn=urn%3Ali%3Afs_miniProfile%3AACoAABe_IwcBv554xT8tGW4uxEWvh6H4pJlUEvE', 'https://www.linkedin.com/in/janedzumerko?miniProfileUrn=urn%3Ali%3Afs_miniProfile%3AACoAABdBkS0BwFE7acFnrTfQimWLVRpi8e-7yZQ', 'https://www.linkedin.com/in/wajeb-saab-b07a1355?miniProfileUrn=urn%3Ali%3Afs_miniProfile%3AACoAAAu383cB-v9sb9R13tKU3wC-4xid57XzttY', 'https://www.linkedin.com/in/javad-niroumand?miniProfileUrn=urn%3Ali%3Afs_miniProfile%3AACoAAAk-OqsBU2W8z037vdrYAt5-7TVulVcQVMo', 'https://www.linkedin.com/in/daria-iurchenko-254493112?miniProfileUrn=urn%3Ali%3Afs_miniProfile%3AACoAABww_qABp0vs4vQJ1Ln3DjKCX9j8ExNkJK0', 'https://www.linkedin.com/in/youssef-fallaha?miniProfileUrn=urn%3Ali%3Afs_miniProfile%3AACoAAAyYlUsBENNsH2y6xz3gmECZ0IJOdQ4g2A8', 'https://www.linkedin.com/in/rhys-howell?miniProfileUrn=urn%3Ali%3Afs_miniProfile%3AACoAABJa68YBZTe_BkjqDeJbYkWdY3RLSlOXnm4', 'https://www.linkedin.com/in/shu-lo-569634171?miniProfileUrn=urn%3Ali%3Afs_miniProfile%3AACoAACjZqSEBZVx7zCoN8AGeqAeuiaPUnJoQXF4', 'https://www.linkedin.com/in/greta-do%C3%A7i-a18a2478?miniProfileUrn=urn%3Ali%3Afs_miniProfile%3AACoAABCGerQBkB7yBcS_K7737_5t2E_UFQKCHTU', 'https://www.linkedin.com/in/ACoAACGHlTcBXNVUJjzm7GHFioHqfd6aCqWq_wc?miniProfileUrn=urn%3Ali%3Afs_miniProfile%3AACoAACGHlTcBXNVUJjzm7GHFioHqfd6aCqWq_wc', 'https://www.linkedin.com/in/ouldhocinemohamed?miniProfileUrn=urn%3Ali%3Afs_miniProfile%3AACoAABh_bDsB31su1j3UaKNu1mEumvuJmDuemfE', 'https://www.linkedin.com/in/maxim-vostov-46a7821a6?miniProfileUrn=urn%3Ali%3Afs_miniProfile%3AACoAADArDBIBhIWZa30ncRQZxucjfNbSy-LpHKM', 'https://www.linkedin.com/in/sara-adel-aab5a0bb?miniProfileUrn=urn%3Ali%3Afs_miniProfile%3AACoAABmJnCMBPxFk6tNo9GKddvdiH3cupwbgo7A', 'https://www.linkedin.com/in/automata?miniProfileUrn=urn%3Ali%3Afs_miniProfile%3AACoAAAILsvgBitZstex0tNQbvClFpndZZJlTLaw', 'https://www.linkedin.com/in/ACoAADAwh_QBBAtlHn3SskwgIeB1-gbgFM-WZuQ?miniProfileUrn=urn%3Ali%3Afs_miniProfile%3AACoAADAwh_QBBAtlHn3SskwgIeB1-gbgFM-WZuQ', 'https://www.linkedin.com/in/manon-gaillardot-53858190?miniProfileUrn=urn%3Ali%3Afs_miniProfile%3AACoAABNOTbwBE51aiU32ff5TseYvLfyfsn1YUNc', 'https://www.linkedin.com/in/sai-krishna-mandagiri-2259aa73?miniProfileUrn=urn%3Ali%3Afs_miniProfile%3AACoAAA-hir0BmG6Un1EbNBYyskAU77BcQhqj-qI'}\n"
     ]
    }
   ],
   "source": [
    "l=len(URLs_all_page)\n",
    "for url in URLs_all_page:\n",
    "    if 'ProfileUrn' in url:\n",
    "        pass\n",
    "    else:\n",
    "        URLs_all_page.remove(url)\n"
   ]
  },
  {
   "cell_type": "code",
   "execution_count": 58,
   "metadata": {},
   "outputs": [
    {
     "name": "stdout",
     "output_type": "stream",
     "text": [
      "- Accessing profile:  https://www.linkedin.com/in/neptuneboege?miniProfileUrn=urn%3Ali%3Afs_miniProfile%3AACoAABO_7igB3QgTNfE9BY2m8tJ8mgGngc7VKug\n",
      "--- Profile name is:  Neptune Kaewsopa Böge\n",
      "--- Occupation:  Software Engineer\n",
      "--- Profile location is:  Dresden, Saxony, Germany\n",
      "\n",
      "\n",
      "- Accessing profile:  https://www.linkedin.com/in/andreibechet?miniProfileUrn=urn%3Ali%3Afs_miniProfile%3AACoAAAN-WNoBpVyrODWH3AuT57HA30aVM4-Xy08\n",
      "--- Profile name is:  Andrei Bechet\n",
      "--- Occupation:  Senior Software Engineer at ThoughtWorks\n",
      "--- Profile location is:  Germany\n",
      "\n",
      "\n",
      "- Accessing profile:  https://www.linkedin.com/in/igna-vermeulen?miniProfileUrn=urn%3Ali%3Afs_miniProfile%3AACoAABDnS-MBICo1846mQxRgrNVMd-LOCJJSjpw\n",
      "--- Profile name is:  Igna Vermeulen\n",
      "--- Occupation:  Software engineer - with a touch of data.\n",
      "--- Profile location is:  Germany\n",
      "\n",
      "\n",
      "- Accessing profile:  https://www.linkedin.com/in/paul-gualotuna?miniProfileUrn=urn%3Ali%3Afs_miniProfile%3AACoAAA8S9vkBJ8HzvjSlxTdz9bkK2fHZEz-bBK4\n",
      "--- Profile name is:  Paúl Gualotuña\n",
      "--- Occupation:  Senior Software Engineer\n",
      "--- Profile location is:  Munich, Bavaria, Germany\n",
      "\n",
      "\n",
      "- Accessing profile:  https://www.linkedin.com/in/zehra-hay%C4%B1rc%C4%B1-39b4071b4?miniProfileUrn=urn%3Ali%3Afs_miniProfile%3AACoAADHk4WcBgD8Ghacvj6U1XNBqkCC9CCJtStQ\n",
      "--- Profile name is:  Zehra Hayırcı\n",
      "--- Occupation:  Software Engineer\n",
      "--- Profile location is:  Munich, Bavaria, Germany\n",
      "\n",
      "\n",
      "- Accessing profile:  https://www.linkedin.com/in/sarra-hattab?miniProfileUrn=urn%3Ali%3Afs_miniProfile%3AACoAABNLK7UBMzmqbuUmU3ezn8ns3u-LESgSJNs\n",
      "--- Profile name is:  Sarra Hattab\n",
      "--- Occupation:  Software Engineer at Klarna\n",
      "--- Profile location is:  Germany\n",
      "\n",
      "\n",
      "- Accessing profile:  https://www.linkedin.com/in/corylevinson?miniProfileUrn=urn%3Ali%3Afs_miniProfile%3AACoAAAmoE_ABVHI3X1e6Hn6ayQG63pU7GNAC510\n",
      "--- Profile name is:  Cory Levinson\n",
      "--- Occupation:  Software Engineer\n",
      "--- Profile location is:  Berlin, Berlin, Germany\n",
      "\n",
      "\n",
      "- Accessing profile:  https://www.linkedin.com/in/fongnancy?miniProfileUrn=urn%3Ali%3Afs_miniProfile%3AACoAABKGDuIB0otYJXlpAhtA_xPgHb_yUC38irE\n",
      "--- Profile name is:  Nancy F.\n",
      "--- Occupation:  Software Engineer chez MYCS GmbH\n",
      "--- Profile location is:  Germany\n",
      "\n",
      "\n",
      "- Accessing profile:  https://www.linkedin.com/in/olga-lyudchik?miniProfileUrn=urn%3Ali%3Afs_miniProfile%3AACoAACZLe_QBKQgiHrgQwxEIifdecq7w6AvwhpI\n",
      "--- Profile name is:  Olga Lyudchik\n",
      "--- Occupation:  Software Engineer at LogMeIn\n",
      "--- Profile location is:  Dresden, Saxony, Germany\n",
      "\n",
      "\n",
      "- Accessing profile:  https://www.linkedin.com/in/asadmuneer?miniProfileUrn=urn%3Ali%3Afs_miniProfile%3AACoAABWdpZgB2z1oiEzCPHejL3TDxWwAIqL8J54\n",
      "--- Profile name is:  Asad Muneer\n",
      "--- Occupation:  Software Engineer at Phenom People\n",
      "--- Profile location is:  Greater Munich Metropolitan Area\n",
      "\n",
      "\n",
      "- Accessing profile:  https://www.linkedin.com/in/muhammadharisshafiq?miniProfileUrn=urn%3Ali%3Afs_miniProfile%3AACoAAA1mHSABaCrtPOB9kbaGCQGQaya4BIyAmqo\n",
      "--- Profile name is:  Haris Shafiq\n",
      "--- Occupation:  Software Engineer at Spanflug\n",
      "--- Profile location is:  Berlin, Berlin, Germany\n",
      "\n",
      "\n",
      "- Accessing profile:  https://www.linkedin.com/in/alexiscarlough?miniProfileUrn=urn%3Ali%3Afs_miniProfile%3AACoAAAhpr6EBnX4c549xMa5fkk_o2vH9EKz1erY\n",
      "--- Profile name is:  Alexis Carlough\n",
      "--- Occupation:  Software Development Engineer at Amazon\n",
      "--- Profile location is:  Germany\n",
      "\n",
      "\n",
      "- Accessing profile:  https://www.linkedin.com/in/jo%C3%A3o-lu%C3%ADs-tavares?miniProfileUrn=urn%3Ali%3Afs_miniProfile%3AACoAAAXxxioBeY92-izzP7rssGvCznMT11GkkXQ\n",
      "--- Profile name is:  João Luís Tavares\n",
      "--- Occupation:  Software Engineer\n",
      "--- Profile location is:  Berlin, Berlin, Germany\n",
      "\n",
      "\n",
      "- Accessing profile:  https://www.linkedin.com/in/norbert-manthey-5378b983?miniProfileUrn=urn%3Ali%3Afs_miniProfile%3AACoAABHAyrsBSJW-05ExMFdp29SVgDn2yNKf988\n",
      "--- Profile name is:  Norbert Manthey\n",
      "--- Occupation:  Software Development Engineer at Amazon Web Sevices\n",
      "--- Profile location is:  Dresden, Saxony, Germany\n",
      "\n",
      "\n",
      "- Accessing profile:  https://www.linkedin.com/in/gulnar-aghayeva-30b280b8?miniProfileUrn=urn%3Ali%3Afs_miniProfile%3AACoAABj04bsBZQSxttZNz6coCA-SegGYD_l6iaQ\n",
      "--- Profile name is:  Gulnar Aghayeva\n",
      "--- Occupation:  Software Engineer at HomeTrust Bank\n",
      "--- Profile location is:  Germany\n",
      "\n",
      "\n",
      "- Accessing profile:  https://www.linkedin.com/in/igor-vizma?miniProfileUrn=urn%3Ali%3Afs_miniProfile%3AACoAAAiu19EBY6xAeFhZIPV0PznhrchertauKN4\n",
      "--- Profile name is:  Igor Vizma\n",
      "--- Occupation:  Senior Software Engineer II at Westwing GmbH. (TechLead)\n",
      "--- Profile location is:  Germany\n",
      "\n",
      "\n",
      "- Accessing profile:  https://www.linkedin.com/in/davidcifuentesgarcia?miniProfileUrn=urn%3Ali%3Afs_miniProfile%3AACoAAAg-wBMB_csE6qW8sK8OC-74BsGmyFIEZ8E\n",
      "--- Profile name is:  David Cifuentes\n",
      "--- Occupation:  Software Engineer\n",
      "--- Profile location is:  Greater Munich Metropolitan Area\n",
      "\n",
      "\n",
      "- Accessing profile:  https://www.linkedin.com/in/ACoAAB8zGzgBCs7tk97g0kh_mpAfaczB4jwFYeo?miniProfileUrn=urn%3Ali%3Afs_miniProfile%3AACoAAB8zGzgBCs7tk97g0kh_mpAfaczB4jwFYeo\n",
      "--- Profile name is:  Viet Nguyen\n",
      "--- Occupation:  AI enthusiast\n",
      "--- Profile location is:  Berlin Metropolitan Area\n",
      "\n",
      "\n",
      "- Accessing profile:  https://www.linkedin.com/in/marcellokabora?miniProfileUrn=urn%3Ali%3Afs_miniProfile%3AACoAABwrQNoBm3_nggSbFf1grw2e27LPS6eDl3k\n",
      "--- Profile name is:  Marcello Annicchiarico\n",
      "--- Occupation:  Software Engineer\n",
      "--- Profile location is:  Berlin, Berlin, Germany\n",
      "\n",
      "\n",
      "- Accessing profile:  https://www.linkedin.com/in/jeremiah-vodianitski-586591206?miniProfileUrn=urn%3Ali%3Afs_miniProfile%3AACoAADRpPvYBRNJ-7UUZbIeRmb5vAOacxRXU6M0\n",
      "--- Profile name is:  Jeremiah Vodianitski\n",
      "--- Occupation:  Senior Software Engineer at Bosch\n",
      "--- Profile location is:  Germany\n",
      "\n",
      "\n",
      "- Accessing profile:  https://www.linkedin.com/in/jessica-ambrosy?miniProfileUrn=urn%3Ali%3Afs_miniProfile%3AACoAABm6u78BEl76am-tK5dpaoXdxaXyWJkXnEs\n",
      "--- Profile name is:  Jessica Ambrosy\n",
      "--- Occupation:  Senior Software Engineer | People Lead at Celonis\n",
      "--- Profile location is:  Bavaria, Germany\n",
      "\n",
      "\n",
      "- Accessing profile:  https://www.linkedin.com/in/dilara-akdogan-a5500090?miniProfileUrn=urn%3Ali%3Afs_miniProfile%3AACoAABM4xeEBXiPgBZcAOZ7qsY74M8iKDGl1-eo\n",
      "--- Profile name is:  Dilara Akdogan\n",
      "--- Occupation:  Senior Software Engineer | People Lead at Celonis\n",
      "--- Profile location is:  Greater Munich Metropolitan Area\n",
      "\n",
      "\n",
      "- Accessing profile:  https://www.linkedin.com/in/aramisfernandes?miniProfileUrn=urn%3Ali%3Afs_miniProfile%3AACoAAAG1jvABrXM6Jk4FglaKa4R7SolMub34ehk\n",
      "--- Profile name is:  Aramis F.\n",
      "--- Occupation:  Software Engineer at NEW WORK SE\n",
      "--- Profile location is:  Germany\n",
      "\n",
      "\n",
      "- Accessing profile:  https://www.linkedin.com/in/fatadel?miniProfileUrn=urn%3Ali%3Afs_miniProfile%3AACoAACRsQyIBLxYf01IneeDUKx35hCGISVp-nCo\n",
      "--- Profile name is:  Adel Fatkhutdinov\n",
      "--- Occupation:  Software Engineer\n",
      "--- Profile location is:  Passau, Bavaria, Germany\n",
      "\n",
      "\n",
      "- Accessing profile:  https://www.linkedin.com/in/maksym-petyak-2763ba157?miniProfileUrn=urn%3Ali%3Afs_miniProfile%3AACoAACWc0_oB5n704rAw5mHZt6W0PNbzZ9gpj1Q\n",
      "--- Profile name is:  Maksym Petyak\n",
      "--- Occupation:  Software Engineer at Luminovo\n",
      "--- Profile location is:  Munich, Bavaria, Germany\n",
      "\n",
      "\n",
      "- Accessing profile:  https://www.linkedin.com/in/marcelscruz?miniProfileUrn=urn%3Ali%3Afs_miniProfile%3AACoAABe_IwcBv554xT8tGW4uxEWvh6H4pJlUEvE\n",
      "--- Profile name is:  Marcel Cruz\n",
      "--- Occupation:  Software Engineer at Clerk.dev\n",
      "--- Profile location is:  Germany\n",
      "\n",
      "\n",
      "- Accessing profile:  https://www.linkedin.com/in/janedzumerko?miniProfileUrn=urn%3Ali%3Afs_miniProfile%3AACoAABdBkS0BwFE7acFnrTfQimWLVRpi8e-7yZQ\n",
      "--- Profile name is:  Jane Djumerkoski\n",
      "--- Occupation:  Software Engineer at FlixBus\n",
      "--- Profile location is:  Germany\n",
      "\n",
      "\n",
      "- Accessing profile:  https://www.linkedin.com/in/wajeb-saab-b07a1355?miniProfileUrn=urn%3Ali%3Afs_miniProfile%3AACoAAAu383cB-v9sb9R13tKU3wC-4xid57XzttY\n",
      "--- Profile name is:  Wajeb Saab\n",
      "--- Occupation:  Software Engineer at Google Munich\n",
      "--- Profile location is:  Munich, Bavaria, Germany\n",
      "\n",
      "\n",
      "- Accessing profile:  https://www.linkedin.com/in/javad-niroumand?miniProfileUrn=urn%3Ali%3Afs_miniProfile%3AACoAAAk-OqsBU2W8z037vdrYAt5-7TVulVcQVMo\n",
      "--- Profile name is:  M-Javad Niroumand\n",
      "--- Occupation:  Software Engineer\n",
      "--- Profile location is:  Berlin, Berlin, Germany\n",
      "\n",
      "\n"
     ]
    },
    {
     "name": "stdout",
     "output_type": "stream",
     "text": [
      "- Accessing profile:  https://www.linkedin.com/in/daria-iurchenko-254493112?miniProfileUrn=urn%3Ali%3Afs_miniProfile%3AACoAABww_qABp0vs4vQJ1Ln3DjKCX9j8ExNkJK0\n",
      "--- Profile name is:  Daria Iurchenko\n",
      "--- Occupation:  Software Engineer – PPRO\n",
      "--- Profile location is:  Germany\n",
      "\n",
      "\n",
      "- Accessing profile:  https://www.linkedin.com/in/youssef-fallaha?miniProfileUrn=urn%3Ali%3Afs_miniProfile%3AACoAAAyYlUsBENNsH2y6xz3gmECZ0IJOdQ4g2A8\n",
      "--- Profile name is:  Youssef Fallaha\n",
      "--- Occupation:  Development Engineer Hardware-Software at engineering people GmbH\n",
      "--- Profile location is:  Karlsruhe, Baden-Württemberg, Germany\n",
      "\n",
      "\n",
      "- Accessing profile:  https://www.linkedin.com/in/rhys-howell?miniProfileUrn=urn%3Ali%3Afs_miniProfile%3AACoAABJa68YBZTe_BkjqDeJbYkWdY3RLSlOXnm4\n",
      "--- Profile name is:  Rhys Howell\n",
      "--- Occupation:  Software Engineer\n",
      "--- Profile location is:  Germany\n",
      "\n",
      "\n",
      "- Accessing profile:  https://www.linkedin.com/in/shu-lo-569634171?miniProfileUrn=urn%3Ali%3Afs_miniProfile%3AACoAACjZqSEBZVx7zCoN8AGeqAeuiaPUnJoQXF4\n",
      "--- Profile name is:  Shu Lo\n",
      "--- Occupation:  Robotics Software Engineer at sewts\n",
      "--- Profile location is:  Germany\n",
      "\n",
      "\n",
      "- Accessing profile:  https://www.linkedin.com/in/greta-do%C3%A7i-a18a2478?miniProfileUrn=urn%3Ali%3Afs_miniProfile%3AACoAABCGerQBkB7yBcS_K7737_5t2E_UFQKCHTU\n",
      "--- Profile name is:  Greta Doçi\n",
      "--- Occupation:  Software Engineer at Nextcloud GmbH\n",
      "--- Profile location is:  Germany\n",
      "\n",
      "\n",
      "- Accessing profile:  https://www.linkedin.com/in/ACoAACGHlTcBXNVUJjzm7GHFioHqfd6aCqWq_wc?miniProfileUrn=urn%3Ali%3Afs_miniProfile%3AACoAACGHlTcBXNVUJjzm7GHFioHqfd6aCqWq_wc\n",
      "--- Profile name is:  Tien Thang Dinh\n",
      "--- Occupation:  Werkstudent im Digital Marketing\n",
      "--- Profile location is:  Greater Dresden Area\n",
      "\n",
      "\n",
      "- Accessing profile:  https://www.linkedin.com/in/ouldhocinemohamed?miniProfileUrn=urn%3Ali%3Afs_miniProfile%3AACoAABh_bDsB31su1j3UaKNu1mEumvuJmDuemfE\n",
      "--- Profile name is:  Mohamed OULD HOCINE\n",
      "--- Occupation:  Software Engineer\n",
      "--- Profile location is:  Germany\n",
      "\n",
      "\n",
      "- Accessing profile:  https://www.linkedin.com/in/maxim-vostov-46a7821a6?miniProfileUrn=urn%3Ali%3Afs_miniProfile%3AACoAADArDBIBhIWZa30ncRQZxucjfNbSy-LpHKM\n",
      "--- Profile name is:  Maxim Vostov\n",
      "--- Occupation:  Full Stack Engineer – GK Software SE\n",
      "--- Profile location is:  Hamburg, Germany\n",
      "\n",
      "\n",
      "- Accessing profile:  https://www.linkedin.com/in/sara-adel-aab5a0bb?miniProfileUrn=urn%3Ali%3Afs_miniProfile%3AACoAABmJnCMBPxFk6tNo9GKddvdiH3cupwbgo7A\n",
      "--- Profile name is:  sara adel\n",
      "--- Occupation:  Software Engineer\n",
      "--- Profile location is:  Germany\n",
      "\n",
      "\n",
      "- Accessing profile:  https://www.linkedin.com/in/automata?miniProfileUrn=urn%3Ali%3Afs_miniProfile%3AACoAAAILsvgBitZstex0tNQbvClFpndZZJlTLaw\n",
      "--- Profile name is:  Patrick L.\n",
      "--- Occupation:  Software Engineer\n",
      "--- Profile location is:  Berlin, Berlin, Germany\n",
      "\n",
      "\n",
      "- Accessing profile:  https://www.linkedin.com/in/ACoAADAwh_QBBAtlHn3SskwgIeB1-gbgFM-WZuQ?miniProfileUrn=urn%3Ali%3Afs_miniProfile%3AACoAADAwh_QBBAtlHn3SskwgIeB1-gbgFM-WZuQ\n",
      "--- Profile name is:  Daniel Weidensdörfer\n",
      "--- Occupation:  Android Engineer bei Konsole Labs GmbH\n",
      "--- Profile location is:  Dresden, Saxony, Germany\n",
      "\n",
      "\n",
      "- Accessing profile:  https://www.linkedin.com/in/manon-gaillardot-53858190?miniProfileUrn=urn%3Ali%3Afs_miniProfile%3AACoAABNOTbwBE51aiU32ff5TseYvLfyfsn1YUNc\n",
      "--- Profile name is:  Manon Gaillardot\n",
      "--- Occupation:  Software Engineer - Backend developer at Holidu\n",
      "--- Profile location is:  Bavaria, Germany\n",
      "\n",
      "\n",
      "- Accessing profile:  https://www.linkedin.com/in/sai-krishna-mandagiri-2259aa73?miniProfileUrn=urn%3Ali%3Afs_miniProfile%3AACoAAA-hir0BmG6Un1EbNBYyskAU77BcQhqj-qI\n",
      "--- Profile name is:  Sai Krishna Mandagiri\n",
      "--- Occupation:  Software Engineer\n",
      "--- Profile location is:  Germany\n",
      "\n",
      "\n",
      "Mission Completed!\n"
     ]
    }
   ],
   "source": [
    "with open('output.csv', 'w',encoding='utf-8', newline = '') as file_output:\n",
    "    headers = ['Name', 'Job Title', 'Location', 'URL']\n",
    "    writer = csv.DictWriter(file_output, delimiter=',', lineterminator='\\n',fieldnames=headers)\n",
    "    writer.writeheader()\n",
    "    for linkedin_URL in URLs_all_page:\n",
    "        driver.get(linkedin_URL)\n",
    "        print('- Accessing profile: ', linkedin_URL)\n",
    "\n",
    "        page_source = BeautifulSoup(driver.page_source, \"html.parser\")\n",
    "\n",
    "        info_div = page_source.find('div',class_='display-flex justify-space-between pt2')\n",
    "        info_name=info_div.find('h1')\n",
    "        name=info_name.get_text().strip()\n",
    "        print('--- Profile name is: ', name)\n",
    "        info_occupation=info_div.find('div',class_=\"text-body-medium break-words\")\n",
    "        occupation=info_occupation.get_text().strip()\n",
    "        print('--- Occupation: ', occupation)\n",
    "        info_location=info_div.find('span', class_=\"text-body-small inline t-black--light break-words\")\n",
    "        location=info_location.get_text().strip()\n",
    "        print('--- Profile location is: ', location)\n",
    "        writer.writerow({headers[0]:name, headers[1]:location, headers[2]:occupation, headers[3]:url})\n",
    "        print('\\n')\n",
    "\n",
    "print('Mission Completed!')"
   ]
  }
 ],
 "metadata": {
  "kernelspec": {
   "display_name": "Python 3",
   "language": "python",
   "name": "python3"
  },
  "language_info": {
   "codemirror_mode": {
    "name": "ipython",
    "version": 3
   },
   "file_extension": ".py",
   "mimetype": "text/x-python",
   "name": "python",
   "nbconvert_exporter": "python",
   "pygments_lexer": "ipython3",
   "version": "3.8.5"
  }
 },
 "nbformat": 4,
 "nbformat_minor": 4
}
